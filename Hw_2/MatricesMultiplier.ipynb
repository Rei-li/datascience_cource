{
 "cells": [
  {
   "cell_type": "markdown",
   "metadata": {},
   "source": [
    "## Д/з 2\n",
    "\n",
    "Создать класс реализующий нижеуказанные методы.\n",
    "Создать объект.\n",
    "\n",
    "1) Создание 2-х массивов 5X5 из случайных чисел. <br>\n",
    "2) Запись этих массивлв в разные файлы. <br>\n",
    "3) Чтение из файла записанных массивов и их перемножение. <br>\n",
    "4) запись и чтение результата в файл.\n"
   ]
  },
  {
   "cell_type": "code",
   "execution_count": 20,
   "metadata": {},
   "outputs": [],
   "source": [
    "class LinearAlgebra:\n",
    "    @staticmethod\n",
    "    def multiply_matrices(matrix_a, matrix_b):\n",
    "        if matrix_a is None or matrix_b is None:\n",
    "            return None\n",
    "        rows_a = len(matrix_a)\n",
    "        cols_a = len(matrix_a[0])\n",
    "        rows_b = len(matrix_b)\n",
    "        cols_b = len(matrix_b[0])\n",
    "\n",
    "        if cols_a != rows_b:\n",
    "            return None\n",
    "        result = [[0 for x in range(cols_b)] for y in range(rows_a)]\n",
    "\n",
    "        for i in range(rows_a):\n",
    "            for j in range(cols_b):\n",
    "                for k in range(cols_a):\n",
    "                    result[i][j] += matrix_a[i][k] * matrix_b[k][j]\n",
    "\n",
    "        return result"
   ]
  },
  {
   "cell_type": "code",
   "execution_count": 21,
   "metadata": {},
   "outputs": [],
   "source": [
    "import os.path\n",
    "\n",
    "\n",
    "class File:\n",
    "    @staticmethod\n",
    "    def write_to_file(file_name, lines):\n",
    "        file = open(file_name, 'w')\n",
    "        file.writelines(lines)\n",
    "        file.close()\n",
    "\n",
    "    @staticmethod\n",
    "    def read_from_file(file_name):\n",
    "        if os.path.exists(file_name):\n",
    "            file = open(file_name, 'r')\n",
    "            lines = file.readlines()\n",
    "            file.close()\n",
    "            return lines"
   ]
  },
  {
   "cell_type": "code",
   "execution_count": 22,
   "metadata": {},
   "outputs": [],
   "source": [
    "import random\n",
    "\n",
    "\n",
    "class MatrixMultiplier(LinearAlgebra, File):\n",
    "    def __init__(self, matrix_a, matrix_b):\n",
    "        self.matrix_a = matrix_a\n",
    "        self.matrix_b = matrix_b\n",
    "\n",
    "    def read_matrix_from_file(self, file_name):\n",
    "        lines = self.read_from_file(file_name)\n",
    "        if lines is None:\n",
    "            return None\n",
    "        return list(map(\n",
    "            lambda numbers_string: list(map(lambda number: int(number), numbers_string.replace(' \\n', '').split(' '))),\n",
    "            lines))\n",
    "\n",
    "    @staticmethod\n",
    "    def process_array(array):\n",
    "        processed_string = \"\"\n",
    "        for value in array:\n",
    "            processed_string = processed_string + str(value) + \" \"\n",
    "        processed_string = processed_string + \"\\n\"\n",
    "        return processed_string\n",
    "\n",
    "    def process_matrix(self, matrix):\n",
    "        result_list = []\n",
    "        for array in matrix:\n",
    "            result_list.append(self.process_array(array))\n",
    "        return result_list"
   ]
  },
  {
   "cell_type": "code",
   "execution_count": 23,
   "metadata": {},
   "outputs": [],
   "source": [
    "class CustomMatrixMultiplier(MatrixMultiplier):\n",
    "    def __init__(self):\n",
    "        super().__init__(self.__generateArray__(5), self.__generateArray__(5))\n",
    "        self.matrix_a_file_name = \"matrix_A.txt\"\n",
    "        self.matrix_b_file_name = \"matrix_B.txt\"\n",
    "        self.matrices_multiplication_result_file_name = \"multiplication_result.txt\"\n",
    "\n",
    "    @staticmethod\n",
    "    def __generateArray__(n):\n",
    "        return [[random.randint(1, 1000) for i in range(n)] for j in range(n)]\n",
    "\n",
    "    def write_generated_matrices_to_files(self):\n",
    "        matrix_to_write_a = self.process_matrix(self.matrix_a)\n",
    "        matrix_to_write_b = self.process_matrix(self.matrix_b)\n",
    "        self.write_to_file(self.matrix_a_file_name, matrix_to_write_a)\n",
    "        self.write_to_file(self.matrix_b_file_name, matrix_to_write_b)\n",
    "\n",
    "    def read_generated_matrices_from_files(self):\n",
    "        array_a = self.read_matrix_from_file(self.matrix_a_file_name)\n",
    "        array_b = self.read_matrix_from_file(self.matrix_b_file_name)\n",
    "        return array_a, array_b\n",
    "\n",
    "    def multiply_matrices_red_from_files(self):\n",
    "        matrices = self.read_generated_matrices_from_files()\n",
    "        if matrices is None:\n",
    "            return None\n",
    "        return self.multiply_matrices(matrices[0], matrices[1])\n",
    "\n",
    "    def write_and_read_matrices_multiplication_result(self):\n",
    "        result = self.multiply_matrices_red_from_files()\n",
    "        if result is None:\n",
    "            return None\n",
    "        processed_result = self.process_matrix(result)\n",
    "        self.write_to_file(self.matrices_multiplication_result_file_name, processed_result)\n",
    "        red_result = self.read_matrix_from_file(self.matrix_a_file_name)\n",
    "        return red_result"
   ]
  },
  {
   "cell_type": "code",
   "execution_count": 24,
   "metadata": {},
   "outputs": [],
   "source": [
    "multiplier = CustomMatrixMultiplier()\n",
    "multiplier.write_generated_matrices_to_files()"
   ]
  },
  {
   "cell_type": "code",
   "execution_count": 25,
   "metadata": {},
   "outputs": [
    {
     "name": "stdout",
     "output_type": "stream",
     "text": [
      "read_generated_matrices_from_files\n",
      "([[516, 26, 356, 369, 598], [741, 63, 10, 268, 480], [647, 934, 184, 744, 652], [436, 80, 497, 255, 372], [176, 947, 856, 910, 633]], [[590, 200, 478, 335, 326], [783, 788, 444, 35, 867], [746, 953, 870, 690, 804], [891, 848, 893, 608, 316], [214, 585, 280, 814, 754]])\n"
     ]
    }
   ],
   "source": [
    "print(\"read_generated_matrices_from_files\")\n",
    "print(multiplier.read_generated_matrices_from_files())"
   ]
  },
  {
   "cell_type": "code",
   "execution_count": 26,
   "metadata": {},
   "outputs": [
    {
     "name": "stdout",
     "output_type": "stream",
     "text": [
      "multiply_matrices_red_from_files\n",
      "[[1047125, 1125698, 1064869, 1130534, 1044478], [835487, 715438, 764594, 811004, 750835], [2052748, 2053076, 1730994, 1359475, 1895348], [997455, 1057741, 1008193, 949638, 972152], [2430189, 2739189, 2239186, 1751287, 2331491]]\n"
     ]
    }
   ],
   "source": [
    "print(\"multiply_matrices_red_from_files\")\n",
    "print(multiplier.multiply_matrices_red_from_files())"
   ]
  },
  {
   "cell_type": "code",
   "execution_count": 27,
   "metadata": {},
   "outputs": [
    {
     "name": "stdout",
     "output_type": "stream",
     "text": [
      "write_and_read_matrices_multiplication_result\n",
      "[[516, 26, 356, 369, 598], [741, 63, 10, 268, 480], [647, 934, 184, 744, 652], [436, 80, 497, 255, 372], [176, 947, 856, 910, 633]]\n"
     ]
    }
   ],
   "source": [
    "print(\"write_and_read_matrices_multiplication_result\")\n",
    "print(multiplier.write_and_read_matrices_multiplication_result())"
   ]
  }
 ],
 "metadata": {
  "kernelspec": {
   "display_name": "Python 3",
   "language": "python",
   "name": "python3"
  },
  "language_info": {
   "codemirror_mode": {
    "name": "ipython",
    "version": 3
   },
   "file_extension": ".py",
   "mimetype": "text/x-python",
   "name": "python",
   "nbconvert_exporter": "python",
   "pygments_lexer": "ipython3",
   "version": "3.7.0"
  }
 },
 "nbformat": 4,
 "nbformat_minor": 2
}
