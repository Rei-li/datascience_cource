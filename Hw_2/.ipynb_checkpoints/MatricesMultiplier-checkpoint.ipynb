{
 "cells": [
  {
   "cell_type": "markdown",
   "metadata": {},
   "source": [
    "## Д/з 2\n",
    "\n",
    "Создать класс реализующий нижеуказанные методы.\n",
    "Создать объект.\n",
    "\n",
    "1) Создание 2-х массивов 5X5 из случайных чисел.\n",
    "2) Запись этих массивлв в разные файлы.\n",
    "3) Чтение из файла записанных массивов и их перемножение.\n",
    "4) запись и чтение результата в файл.\n"
   ]
  },
  {
   "cell_type": "code",
   "execution_count": 6,
   "metadata": {},
   "outputs": [],
   "source": [
    "%config IPCompleter.greedy=True"
   ]
  },
  {
   "cell_type": "code",
   "execution_count": 5,
   "metadata": {},
   "outputs": [
    {
     "name": "stdout",
     "output_type": "stream",
     "text": [
      "[[0.5143352572805653, 0.11299684136021504, 0.8665585875340295, 0.7151426854779432, 0.5385750317023612], [0.8728999172260042, 0.31386497215088627, 0.8892944635001353, 0.4563606267453164, 0.3531525880467571], [0.6751060055129147, 0.32017383628460117, 0.42061745271634077, 0.37604905859647253, 0.4448599269916117], [0.8468466327563783, 0.24383181570252666, 0.3020773031715328, 0.8256327899169001, 0.5568044772890905], [0.6794483012463308, 0.7409712757392819, 0.989934776551594, 0.5208394639544057, 0.6297144398921253]]\n",
      "[[0.8434634579223146, 0.3049881807182344, 0.8670792395477588, 0.8824898611949489, 0.11192503409753918], [0.6384644519225816, 0.3070102378502382, 0.6190855246102471, 0.42624602887678864, 0.17191003745334454], [0.9028331851145636, 0.4073010345305045, 0.4983530552987263, 0.6169115790388048, 0.2958445789962093], [0.20443717913055082, 0.12744945774484118, 0.8063429439063486, 0.8925711069022839, 0.9059895277752543], [0.7303756668538901, 0.11700693580721533, 0.10303057252844139, 0.23377046799960743, 0.29276373980787196]]\n"
     ]
    },
    {
     "data": {
      "text/plain": [
       "<__main__.ArrayMultiplier at 0x1fe89c96a0>"
      ]
     },
     "execution_count": 5,
     "metadata": {},
     "output_type": "execute_result"
    }
   ],
   "source": [
    "import random\n",
    "\n",
    "class ArrayMultiplier:\n",
    "  def __init__(self):\n",
    "    self.arrayA = self.__generateArray__(5)\n",
    "    print(self.arrayA)\n",
    "    self.arrayB = self.__generateArray__(5)\n",
    "    print(self.arrayB)\n",
    "    \n",
    "  def __generateArray__(self,n):\n",
    "    return [[random.randint() for i in range(n)] for j in range(n)]\n",
    "\n",
    "  def __writeToFile__(self, fileName, lines):\n",
    "        file = open(fileName, 'w')\n",
    "        file.writelines(lines)\n",
    "        file.close()\n",
    "        \n",
    "  def __readFromFile__ (self, fileName):\n",
    "    file = open(fileName, 'r')\n",
    "    lines = file.readlines()\n",
    "    file.close()\n",
    "    \n",
    "    return lines\n",
    "\n",
    "        \n",
    "  def __processArray__(self, array):\n",
    "    processedString = \"\"\n",
    "    for value in array:\n",
    "        processedString = processedString + str(value) + \" \"\n",
    "        \n",
    "    processedString = processedString + \"/n\"\n",
    "        \n",
    "    return processedString\n",
    "    \n",
    "  def __processMatrix__(self, matrix):\n",
    "    list = []\n",
    "    for array in matrix:\n",
    "        list.append(self. __processArray__(array))\n",
    "        \n",
    "    return list\n",
    "    \n",
    "\n",
    "ArrayMultiplier()"
   ]
  }
 ],
 "metadata": {
  "kernelspec": {
   "display_name": "Python 3",
   "language": "python",
   "name": "python3"
  },
  "language_info": {
   "codemirror_mode": {
    "name": "ipython",
    "version": 3
   },
   "file_extension": ".py",
   "mimetype": "text/x-python",
   "name": "python",
   "nbconvert_exporter": "python",
   "pygments_lexer": "ipython3",
   "version": "3.7.0"
  }
 },
 "nbformat": 4,
 "nbformat_minor": 2
}
