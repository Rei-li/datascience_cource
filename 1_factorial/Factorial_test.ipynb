{
 "cells": [
  {
   "cell_type": "markdown",
   "metadata": {},
   "source": [
    "# Вычисление факториала"
   ]
  },
  {
   "attachments": {},
   "cell_type": "markdown",
   "metadata": {},
   "source": [
    "#### Рекуррентная формула\n",
    "<img src=\"formula_image.svg\">"
   ]
  },
  {
   "cell_type": "markdown",
   "metadata": {},
   "source": [
    "#### Вычисление факториала через рекурсию"
   ]
  },
  {
   "cell_type": "code",
   "execution_count": 26,
   "metadata": {},
   "outputs": [
    {
     "name": "stdout",
     "output_type": "stream",
     "text": [
      "factorial(5):\n",
      "120\n",
      "Execution time of 1000 iterations:\n",
      "0.4571033597226233\n"
     ]
    }
   ],
   "source": [
    "import timeit\n",
    "\n",
    "def factorial(n):\n",
    "    if n == 0:\n",
    "        return 1\n",
    "    else:\n",
    "        return n * factorial(n - 1)\n",
    "\n",
    "print('factorial(5):')\n",
    "print(factorial(5))\n",
    "    \n",
    "setupCode = '''\n",
    "from __main__ import factorial \n",
    "'''\n",
    "    \n",
    "testCode = '''\n",
    "factorial(1000)\n",
    "''' \n",
    "print('Execution time of 1000 iterations:')\n",
    "print (timeit.timeit(setup = setupCode, \n",
    "                    stmt = testCode, \n",
    "                    number = 1000))"
   ]
  },
  {
   "cell_type": "markdown",
   "metadata": {},
   "source": [
    "#### Вычисление факториала с помощью модуля math"
   ]
  },
  {
   "cell_type": "code",
   "execution_count": 31,
   "metadata": {},
   "outputs": [
    {
     "name": "stdout",
     "output_type": "stream",
     "text": [
      "math.factorial(5):\n",
      "120\n",
      "Execution time of 1000 iterations:\n",
      "0.06588601455086973\n"
     ]
    }
   ],
   "source": [
    "import  math\n",
    "\n",
    "print('math.factorial(5):')\n",
    "print(math.factorial(5))\n",
    "\n",
    "setupCode = '''\n",
    "import  math\n",
    "'''\n",
    "testCode = '''\n",
    "math.factorial(1000)\n",
    "'''\n",
    "\n",
    "print('Execution time of 1000 iterations:')\n",
    "print (timeit.timeit(setup = setupCode, \n",
    "                    stmt = testCode, \n",
    "                    number = 1000))"
   ]
  },
  {
   "cell_type": "markdown",
   "metadata": {},
   "source": [
    "<b>Вывод:</b>\n",
    "<br>\n",
    "стандартная библиотека работает быстрее"
   ]
  }
 ],
 "metadata": {
  "kernelspec": {
   "display_name": "Python 3",
   "language": "python",
   "name": "python3"
  },
  "language_info": {
   "codemirror_mode": {
    "name": "ipython",
    "version": 3
   },
   "file_extension": ".py",
   "mimetype": "text/x-python",
   "name": "python",
   "nbconvert_exporter": "python",
   "pygments_lexer": "ipython3",
   "version": "3.6.2"
  }
 },
 "nbformat": 4,
 "nbformat_minor": 2
}
